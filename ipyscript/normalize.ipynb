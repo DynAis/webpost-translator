{
 "cells": [
  {
   "cell_type": "code",
   "execution_count": 1,
   "metadata": {
    "scrolled": false
   },
   "outputs": [],
   "source": [
    "import regex as re\n",
    "import time\n",
    "import os\n",
    "\n",
    "#读取当前根目录下正确命名的笔记文件, 生成列表\n",
    "file_list = os.listdir(\"./\")\n",
    "note_list = []\n",
    "for file in file_list:\n",
    "    if re.match(\"[NTPJ]{2}-.*-.*.md$\", file):\n",
    "        note_list.append(file)\n",
    "# print(note_list)\n",
    "\n",
    "#对每一个文件进行一次操作\n",
    "for note in note_list:\n",
    "    with open(note, \"r+\", encoding=\"utf8\") as md:\n",
    "        tex = md.readlines()"
   ]
  },
  {
   "cell_type": "code",
   "execution_count": 2,
   "metadata": {
    "scrolled": true
   },
   "outputs": [],
   "source": [
    "    #code_flag指示当前语句是否处于code block内\n",
    "    code_flag = False\n",
    "    #list_flag指示当前语句是否处于list内(>, -, 1.)\n",
    "    list_flag = False\n",
    "\n",
    "    for i in range(len(tex)):\n",
    "        #检测code block\n",
    "        if tex[i].startswith(\"```\"):\n",
    "            code_flag = not code_flag\n",
    "        #如果是code block则不进行任何处理\n",
    "        if code_flag:\n",
    "            continue\n",
    "\n",
    "        #删除空行\n",
    "        tex[i] = tex[i].lstrip()\n",
    "        #小写规范化\n",
    "        str = tex[i].lower()\n",
    "        #检测list, 如果是list则不进行任何处理, 然后在推出list是加上空行\n",
    "        if str.startswith(\">\") or str.startswith(\"-\") or re.match(\"\\d.\", str)!=None:\n",
    "            list_flag = True\n",
    "            continue\n",
    "        elif list_flag and i-1>0:\n",
    "            list_flag = False\n",
    "            tex[i-1] += \"\\n\"\n",
    "\n",
    "        #检测替换[toc]标签\n",
    "        if str.find(\"[toc]\")>=0:\n",
    "            tex[i] = tex[i].lower().replace(\"[toc]\", \"<!-- toc -->\")\n",
    "        #自动设置空行\n",
    "        br_flag = False\n",
    "        if str.startswith(\"#####\") and not br_flag:\n",
    "            br_flag = True\n",
    "        if str.startswith(\"####\") and not br_flag:\n",
    "            br_flag = True\n",
    "        if str.startswith(\"###\") and not br_flag and i-1>0:\n",
    "            tex[i-1] += '<br>\\n'\n",
    "            br_flag = True\n",
    "        if str.startswith(\"##\") and not br_flag and i-1>0:\n",
    "            tex[i-1] += '<br>\\n<br>\\n'\n",
    "            br_flag = True\n",
    "        if str.startswith(\"#\") and not br_flag and i-1>0:\n",
    "            tex[i-1] += '<br>\\n<br>\\n'\n",
    "            br_flag = True\n",
    "        #转换图片至fancybox   \n",
    "        if re.search(\"<img.+/>\", str):\n",
    "            #获取图片url\n",
    "            img_url = re.search(\"(?<=src=\\\")(.+?)(?=\\\")\", str).group()\n",
    "    #         print(img_url)\n",
    "            #替换图片url\n",
    "            fancybox = \"{%% image fancybox center clear group:default %s 75%% 75%% \" \" %%}\" % (img_url)\n",
    "    #         print(fancybox)\n",
    "            tex[i] = re.sub(\"<img.+/>\", fancybox, str)\n",
    "\n",
    "#     print(tex)"
   ]
  },
  {
   "cell_type": "code",
   "execution_count": 3,
   "metadata": {},
   "outputs": [],
   "source": [
    "    #私有符号解释器"
   ]
  },
  {
   "cell_type": "code",
   "execution_count": 4,
   "metadata": {},
   "outputs": [],
   "source": [
    "    #根据head_config.md文件生成头部结构\n",
    "    with open(\"head_config.md\", \"r\", encoding=\"utf8\") as md:\n",
    "        head = md.read()\n",
    "#         print(head)\n",
    "    #生成date标签\n",
    "    local_time = time.strftime(\"%Y-%m-%d %H:%M:%S\", time.localtime())\n",
    "    head = re.sub(\"{{ date }}\", local_time, head)\n",
    "    #生成title标签\n",
    "    title = re.search(\"(?<=[NTPJ]{2}-.*-).*(?=.md$)\", note).group()\n",
    "    head = re.sub(\"{{ title }}\", title, head)\n",
    "#     print(head)"
   ]
  },
  {
   "cell_type": "code",
   "execution_count": 5,
   "metadata": {},
   "outputs": [],
   "source": [
    "    #自动生成archive\n",
    "    #自动生成tags\n",
    "    #自动生成keywords"
   ]
  },
  {
   "cell_type": "code",
   "execution_count": 6,
   "metadata": {},
   "outputs": [],
   "source": [
    "    #文件输出\n",
    "    out = [head] + tex\n",
    "    with open(title+\".md\", \"w+\", encoding=\"utf8\") as md:\n",
    "        for str in out:\n",
    "            md.write(str)"
   ]
  },
  {
   "cell_type": "code",
   "execution_count": null,
   "metadata": {},
   "outputs": [],
   "source": []
  }
 ],
 "metadata": {
  "kernelspec": {
   "display_name": "Python 3",
   "language": "python",
   "name": "python3"
  },
  "language_info": {
   "codemirror_mode": {
    "name": "ipython",
    "version": 3
   },
   "file_extension": ".py",
   "mimetype": "text/x-python",
   "name": "python",
   "nbconvert_exporter": "python",
   "pygments_lexer": "ipython3",
   "version": "3.8.3"
  }
 },
 "nbformat": 4,
 "nbformat_minor": 4
}
